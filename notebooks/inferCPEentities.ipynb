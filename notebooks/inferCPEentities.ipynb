{
 "cells": [
  {
   "cell_type": "markdown",
   "metadata": {},
   "source": [
    "# Custom NER model training pipeline"
   ]
  },
  {
   "cell_type": "markdown",
   "metadata": {},
   "source": [
    "## Custom parameters\n",
    "\n",
    "Customize your model training changing the default parameters:\n",
    "\n",
    "- __Pipeline settings__\n",
    "  - __verbose__: Boolean, print steps and partial results\n",
    "  - __p_seed__: Integer, used for reproducibility"
   ]
  },
  {
   "cell_type": "code",
   "execution_count": null,
   "metadata": {},
   "outputs": [],
   "source": [
    "# Global parameters\n",
    "verbose = True\n",
    "num_samples = 500\n",
    "input_path = \"../datasets/trainsets/train_cpener_vers_500k_rnd42.csv.gz\"\n",
    "infer_column = \"title\"\n",
    "\n",
    "p_ner_vendor = True\n",
    "p_ner_product = True\n",
    "p_ner_version = True\n",
    "\n",
    "custom_model_name = \"../models/db_cpener_vpv\"\n",
    "results_path = \"../datasets/results/ner_predictions.csv\""
   ]
  },
  {
   "cell_type": "markdown",
   "metadata": {},
   "source": [
    "## Requirements"
   ]
  },
  {
   "cell_type": "markdown",
   "metadata": {},
   "source": [
    "### Required packages"
   ]
  },
  {
   "cell_type": "code",
   "execution_count": null,
   "metadata": {},
   "outputs": [],
   "source": [
    "from transformers import AutoTokenizer, AutoModelForTokenClassification, pipeline\n",
    "from transformers.pipelines.pt_utils import KeyDataset\n",
    "from datasets import Dataset\n",
    "import pandas as pd\n",
    "import re\n",
    "import numpy as np"
   ]
  },
  {
   "cell_type": "markdown",
   "metadata": {},
   "source": [
    "### Custom functions"
   ]
  },
  {
   "cell_type": "code",
   "execution_count": null,
   "metadata": {},
   "outputs": [],
   "source": [
    "def process_ner_out(out, ent_vend, ent_prod, ent_vers):\n",
    "    if (ent_vend):\n",
    "        ner_vendor = \"\"\n",
    "        scr_vendor = 0.0\n",
    "\n",
    "    if (ent_prod):\n",
    "        ner_product = \"\"\n",
    "        scr_product = 0.0\n",
    "\n",
    "    if (ent_vers):\n",
    "        ner_version = \"\"\n",
    "        scr_version = 0.0\n",
    "\n",
    "    if (out == []):\n",
    "        if (ent_vend and ent_prod and ent_vers):\n",
    "            return({\"ner_vendor\": ner_vendor,\n",
    "                    \"scr_vendor\": scr_vendor,\n",
    "                    \"ner_product\": ner_product,\n",
    "                    \"scr_product\": scr_product,\n",
    "                    \"ner_version\": ner_version,\n",
    "                    \"scr_version\": scr_version})\n",
    "        elif (ent_vend and ent_prod and not(ent_vers)):\n",
    "            return({\"ner_vendor\": ner_vendor,\n",
    "                    \"scr_vendor\": scr_vendor,\n",
    "                    \"ner_product\": ner_product,\n",
    "                    \"scr_product\": scr_product})\n",
    "        elif (not(ent_vend) and ent_prod and ent_vers):\n",
    "            return({\"ner_product\": ner_product,\n",
    "                    \"scr_product\": scr_product,\n",
    "                    \"ner_version\": ner_version,\n",
    "                    \"scr_version\": scr_version})\n",
    "        elif (ent_vend and not(ent_prod) and ent_vers):\n",
    "            return({\"ner_vendor\": ner_vendor,\n",
    "                    \"scr_vendor\": scr_vendor,\n",
    "                    \"ner_version\": ner_version,\n",
    "                    \"scr_version\": scr_version})\n",
    "        elif (ent_vend and not(ent_prod) and not(ent_vers)):\n",
    "            return({\"ner_vendor\": ner_vendor,\n",
    "                    \"scr_vendor\": scr_vendor})\n",
    "        elif (not(ent_vend) and ent_prod and not(ent_vers)):\n",
    "            return({\"ner_product\": ner_product,\n",
    "                    \"scr_product\": scr_product})\n",
    "        elif (not(ent_vend) and not(ent_prod) and ent_vers):\n",
    "            return({\"ner_version\": ner_version,\n",
    "                    \"scr_version\": scr_version})\n",
    "        else:\n",
    "            return({})\n",
    "    \n",
    "    df_ner = pd.DataFrame.from_dict(out)  \n",
    "    \n",
    "    if ('vendor' in df_ner['entity_group'].values):\n",
    "        ner_vendor = df_ner[df_ner['entity_group'] == \"vendor\"].groupby(\"entity_group\").agg({'word': ' '.join}).word.iloc[0]\n",
    "        ner_vendor = re.sub(r'([^ ]+) ([^\\d|^\\w]) ([^ ]+)', \"\\\\1\\\\2\\\\3\", ner_vendor)\n",
    "        scr_vendor = df_ner[df_ner['entity_group'] == \"vendor\"].groupby(\"entity_group\").mean(\"score\").score.iloc[0]\n",
    "    if ('product' in df_ner['entity_group'].values):\n",
    "        ner_product = df_ner[df_ner['entity_group'] == \"product\"] .groupby(\"entity_group\").agg({'word': ' '.join}).word.iloc[0]\n",
    "        ner_product = re.sub(r'([^ ]+) ([^\\d|^\\w]) ([^ ]+)', \"\\\\1\\\\2\\\\3\", ner_product)\n",
    "        scr_product = df_ner[df_ner['entity_group'] == \"product\"] .groupby(\"entity_group\").mean(\"score\").score.iloc[0]\n",
    "    if ('version' in df_ner['entity_group'].values):\n",
    "        ner_version = df_ner[df_ner['entity_group'] == \"version\"] .groupby(\"entity_group\").agg({'word': '.'.join}).word.iloc[0]\n",
    "        ner_version = re.sub(r'\\.+', \".\", ner_version)\n",
    "        scr_version = df_ner[df_ner['entity_group'] == \"version\"] .groupby(\"entity_group\").mean(\"score\").score.iloc[0]\n",
    "    \n",
    "    if (ent_vend and ent_prod and ent_vers):\n",
    "        return({\"ner_vendor\": ner_vendor,\n",
    "                \"scr_vendor\": scr_vendor,\n",
    "                \"ner_product\": ner_product,\n",
    "                \"scr_product\": scr_product,\n",
    "                \"ner_version\": ner_version,\n",
    "                \"scr_version\": scr_version})\n",
    "    elif (ent_vend and ent_prod and not(ent_vers)):\n",
    "        return({\"ner_vendor\": ner_vendor,\n",
    "                \"scr_vendor\": scr_vendor,\n",
    "                \"ner_product\": ner_product,\n",
    "                \"scr_product\": scr_product})\n",
    "    elif (not(ent_vend) and ent_prod and ent_vers):\n",
    "        return({\"ner_product\": ner_product,\n",
    "                \"scr_product\": scr_product,\n",
    "                \"ner_version\": ner_version,\n",
    "                \"scr_version\": scr_version})\n",
    "    elif (ent_vend and not(ent_prod) and ent_vers):\n",
    "        return({\"ner_vendor\": ner_vendor,\n",
    "                \"scr_vendor\": scr_vendor,\n",
    "                \"ner_version\": ner_version,\n",
    "                \"scr_version\": scr_version})\n",
    "    elif (ent_vend and not(ent_prod) and not(ent_vers)):\n",
    "        return({\"ner_vendor\": ner_vendor,\n",
    "                \"scr_vendor\": scr_vendor})\n",
    "    elif (not(ent_vend) and ent_prod and not(ent_vers)):\n",
    "        return({\"ner_product\": ner_product,\n",
    "                \"scr_product\": scr_product})\n",
    "    elif (not(ent_vend) and not(ent_prod) and ent_vers):\n",
    "        return({\"ner_version\": ner_version,\n",
    "                \"scr_version\": scr_version})\n",
    "    else:\n",
    "        return({})\n"
   ]
  },
  {
   "cell_type": "code",
   "execution_count": null,
   "metadata": {},
   "outputs": [],
   "source": [
    "tokenizer = AutoTokenizer.from_pretrained(custom_model_name + \"/tokenizer\")\n",
    "model = AutoModelForTokenClassification.from_pretrained(custom_model_name, ignore_mismatched_sizes=True)"
   ]
  },
  {
   "cell_type": "code",
   "execution_count": null,
   "metadata": {},
   "outputs": [],
   "source": [
    "def hackvers(row):\n",
    "    vers = [i for i in row['title'].split() if i.startswith(row['ner_version'])]\n",
    "    return ''.join(vers)"
   ]
  },
  {
   "cell_type": "markdown",
   "metadata": {},
   "source": [
    "# INFERENCE"
   ]
  },
  {
   "cell_type": "markdown",
   "metadata": {},
   "source": [
    "## Read input sample"
   ]
  },
  {
   "cell_type": "code",
   "execution_count": null,
   "metadata": {},
   "outputs": [],
   "source": [
    "df = pd.read_csv(input_path)\n",
    "\n",
    "validate = df.loc[np.random.choice(df.index, num_samples)].reset_index()\n",
    "if (verbose):\n",
    "    display(validate)"
   ]
  },
  {
   "cell_type": "markdown",
   "metadata": {},
   "source": [
    "## Predict entities:"
   ]
  },
  {
   "cell_type": "code",
   "execution_count": null,
   "metadata": {},
   "outputs": [],
   "source": [
    "pipe = pipeline(\"ner\", model=model, tokenizer=tokenizer, aggregation_strategy=\"max\", device=0) # pass device=0 if using gpu\n",
    "\n",
    "def predict_cpe_ner(df, col_name):\n",
    "    dataset = Dataset.from_pandas(df)\n",
    "    out_ner = []\n",
    "    for out in pipe(KeyDataset(dataset, col_name), batch_size=8):\n",
    "        i = process_ner_out(out, p_ner_vendor, p_ner_product, p_ner_version)\n",
    "        out_ner.append(i)\n",
    "\n",
    "    df_predict = pd.DataFrame.from_dict(out_ner)\n",
    "    \n",
    "    return df_predict"
   ]
  },
  {
   "cell_type": "code",
   "execution_count": null,
   "metadata": {},
   "outputs": [],
   "source": [
    "df_predict = predict_cpe_ner(validate, infer_column)\n",
    "if (verbose):\n",
    "    display(df_predict)"
   ]
  },
  {
   "cell_type": "markdown",
   "metadata": {},
   "source": [
    "## Save results"
   ]
  },
  {
   "cell_type": "code",
   "execution_count": null,
   "metadata": {},
   "outputs": [],
   "source": [
    "\n",
    "df_result = pd.concat([validate.loc[:,[i for i in validate.columns if not (i.startswith('annotated') or i.startswith('cpe'))]].reset_index(drop=True), df_predict], axis=1)\n",
    "if (\"ner_version\" in df_result.columns):\n",
    "    df_result['ner_version_raw'] = df_result['ner_version']\n",
    "    df_result['ner_version'] = df_result.apply(hackvers, axis=1)\n",
    "if (verbose):\n",
    "    display(df_result)"
   ]
  },
  {
   "cell_type": "code",
   "execution_count": null,
   "metadata": {},
   "outputs": [],
   "source": [
    "df_result.to_csv(results_path)"
   ]
  }
 ],
 "metadata": {
  "kernelspec": {
   "display_name": "base",
   "language": "python",
   "name": "python3"
  },
  "language_info": {
   "codemirror_mode": {
    "name": "ipython",
    "version": 3
   },
   "file_extension": ".py",
   "mimetype": "text/x-python",
   "name": "python",
   "nbconvert_exporter": "python",
   "pygments_lexer": "ipython3",
   "version": "3.11.8"
  },
  "orig_nbformat": 4
 },
 "nbformat": 4,
 "nbformat_minor": 2
}
