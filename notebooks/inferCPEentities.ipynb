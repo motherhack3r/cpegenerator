{
 "cells": [
  {
   "cell_type": "markdown",
   "metadata": {},
   "source": [
    "# Inventory CPE Inference"
   ]
  },
  {
   "cell_type": "markdown",
   "metadata": {},
   "source": [
    "## Custom parameters\n",
    "\n",
    "Customize your model training changing the default parameters:\n",
    "\n",
    "- __Pipeline settings__\n",
    "  - __verbose__: Boolean, print steps and partial results\n",
    "  - __p_seed__: Integer, used for reproducibility"
   ]
  },
  {
   "cell_type": "code",
   "execution_count": null,
   "metadata": {},
   "outputs": [],
   "source": [
    "# Global parameters\n",
    "verbose = True\n",
    "input_path = \"../datasets/rawdata/winventory.csv\"\n",
    "infer_column = \"title\"\n",
    "num_samples = 0\n",
    "\n",
    "custom_models = [\"../models/db_cpener_vpv\", \"../models/db_cpener_vp\", \"../models/db_cpener_vv\", \"../models/db_cpener_pv\", \"../models/db_cpener_vend\", \"../models/db_cpener_prod\", \"../models/db_cpener_vers\"]\n",
    "results_path = \"../datasets/results/ner_inventory.csv\""
   ]
  },
  {
   "cell_type": "markdown",
   "metadata": {},
   "source": [
    "## Requirements"
   ]
  },
  {
   "cell_type": "markdown",
   "metadata": {},
   "source": [
    "### Required packages"
   ]
  },
  {
   "cell_type": "code",
   "execution_count": null,
   "metadata": {},
   "outputs": [],
   "source": [
    "from transformers import AutoTokenizer, AutoModelForTokenClassification, pipeline\n",
    "from transformers.pipelines.pt_utils import KeyDataset\n",
    "from datasets import Dataset\n",
    "import pandas as pd\n",
    "import re\n",
    "import numpy as np"
   ]
  },
  {
   "cell_type": "markdown",
   "metadata": {},
   "source": [
    "### Custom functions"
   ]
  },
  {
   "cell_type": "code",
   "execution_count": null,
   "metadata": {},
   "outputs": [],
   "source": [
    "def process_ner_out(out, ent_vend, ent_prod, ent_vers):\n",
    "    if (ent_vend):\n",
    "        ner_vendor = \"\"\n",
    "        scr_vendor = 0.0\n",
    "\n",
    "    if (ent_prod):\n",
    "        ner_product = \"\"\n",
    "        scr_product = 0.0\n",
    "\n",
    "    if (ent_vers):\n",
    "        ner_version = \"\"\n",
    "        scr_version = 0.0\n",
    "\n",
    "    if (out == []):\n",
    "        if (ent_vend and ent_prod and ent_vers):\n",
    "            return({\"ner_vendor\": ner_vendor,\n",
    "                    \"scr_vendor\": scr_vendor,\n",
    "                    \"ner_product\": ner_product,\n",
    "                    \"scr_product\": scr_product,\n",
    "                    \"ner_version\": ner_version,\n",
    "                    \"scr_version\": scr_version})\n",
    "        elif (ent_vend and ent_prod and not(ent_vers)):\n",
    "            return({\"ner_vendor\": ner_vendor,\n",
    "                    \"scr_vendor\": scr_vendor,\n",
    "                    \"ner_product\": ner_product,\n",
    "                    \"scr_product\": scr_product})\n",
    "        elif (not(ent_vend) and ent_prod and ent_vers):\n",
    "            return({\"ner_product\": ner_product,\n",
    "                    \"scr_product\": scr_product,\n",
    "                    \"ner_version\": ner_version,\n",
    "                    \"scr_version\": scr_version})\n",
    "        elif (ent_vend and not(ent_prod) and ent_vers):\n",
    "            return({\"ner_vendor\": ner_vendor,\n",
    "                    \"scr_vendor\": scr_vendor,\n",
    "                    \"ner_version\": ner_version,\n",
    "                    \"scr_version\": scr_version})\n",
    "        elif (ent_vend and not(ent_prod) and not(ent_vers)):\n",
    "            return({\"ner_vendor\": ner_vendor,\n",
    "                    \"scr_vendor\": scr_vendor})\n",
    "        elif (not(ent_vend) and ent_prod and not(ent_vers)):\n",
    "            return({\"ner_product\": ner_product,\n",
    "                    \"scr_product\": scr_product})\n",
    "        elif (not(ent_vend) and not(ent_prod) and ent_vers):\n",
    "            return({\"ner_version\": ner_version,\n",
    "                    \"scr_version\": scr_version})\n",
    "        else:\n",
    "            return({})\n",
    "    \n",
    "    df_ner = pd.DataFrame.from_dict(out)  \n",
    "    \n",
    "    if ('vendor' in df_ner['entity_group'].values):\n",
    "        ner_vendor = df_ner[df_ner['entity_group'] == \"vendor\"].groupby(\"entity_group\").agg({'word': ' '.join}).word.iloc[0]\n",
    "        ner_vendor = re.sub(r'([^ ]+) ([^\\d|^\\w]) ([^ ]+)', \"\\\\1\\\\2\\\\3\", ner_vendor)\n",
    "        scr_vendor = df_ner[df_ner['entity_group'] == \"vendor\"].groupby(\"entity_group\").mean(\"score\").score.iloc[0]\n",
    "    if ('product' in df_ner['entity_group'].values):\n",
    "        ner_product = df_ner[df_ner['entity_group'] == \"product\"] .groupby(\"entity_group\").agg({'word': ' '.join}).word.iloc[0]\n",
    "        ner_product = re.sub(r'([^ ]+) ([^\\d|^\\w]) ([^ ]+)', \"\\\\1\\\\2\\\\3\", ner_product)\n",
    "        scr_product = df_ner[df_ner['entity_group'] == \"product\"] .groupby(\"entity_group\").mean(\"score\").score.iloc[0]\n",
    "    if ('version' in df_ner['entity_group'].values):\n",
    "        ner_version = df_ner[df_ner['entity_group'] == \"version\"] .groupby(\"entity_group\").agg({'word': '.'.join}).word.iloc[0]\n",
    "        ner_version = re.sub(r'\\.+', \".\", ner_version)\n",
    "        scr_version = df_ner[df_ner['entity_group'] == \"version\"] .groupby(\"entity_group\").mean(\"score\").score.iloc[0]\n",
    "    \n",
    "    if (ent_vend and ent_prod and ent_vers):\n",
    "        return({\"ner_vendor\": ner_vendor,\n",
    "                \"scr_vendor\": scr_vendor,\n",
    "                \"ner_product\": ner_product,\n",
    "                \"scr_product\": scr_product,\n",
    "                \"ner_version\": ner_version,\n",
    "                \"scr_version\": scr_version})\n",
    "    elif (ent_vend and ent_prod and not(ent_vers)):\n",
    "        return({\"ner_vendor\": ner_vendor,\n",
    "                \"scr_vendor\": scr_vendor,\n",
    "                \"ner_product\": ner_product,\n",
    "                \"scr_product\": scr_product})\n",
    "    elif (not(ent_vend) and ent_prod and ent_vers):\n",
    "        return({\"ner_product\": ner_product,\n",
    "                \"scr_product\": scr_product,\n",
    "                \"ner_version\": ner_version,\n",
    "                \"scr_version\": scr_version})\n",
    "    elif (ent_vend and not(ent_prod) and ent_vers):\n",
    "        return({\"ner_vendor\": ner_vendor,\n",
    "                \"scr_vendor\": scr_vendor,\n",
    "                \"ner_version\": ner_version,\n",
    "                \"scr_version\": scr_version})\n",
    "    elif (ent_vend and not(ent_prod) and not(ent_vers)):\n",
    "        return({\"ner_vendor\": ner_vendor,\n",
    "                \"scr_vendor\": scr_vendor})\n",
    "    elif (not(ent_vend) and ent_prod and not(ent_vers)):\n",
    "        return({\"ner_product\": ner_product,\n",
    "                \"scr_product\": scr_product})\n",
    "    elif (not(ent_vend) and not(ent_prod) and ent_vers):\n",
    "        return({\"ner_version\": ner_version,\n",
    "                \"scr_version\": scr_version})\n",
    "    else:\n",
    "        return({})\n"
   ]
  },
  {
   "cell_type": "code",
   "execution_count": null,
   "metadata": {},
   "outputs": [],
   "source": [
    "def hackvers(row):\n",
    "    vers = [i for i in row['title'].split() if i.startswith(row['ner_version'])]\n",
    "    return ''.join(vers)"
   ]
  },
  {
   "cell_type": "markdown",
   "metadata": {},
   "source": [
    "# INFERENCE"
   ]
  },
  {
   "cell_type": "markdown",
   "metadata": {},
   "source": [
    "## Read input sample"
   ]
  },
  {
   "cell_type": "code",
   "execution_count": null,
   "metadata": {},
   "outputs": [],
   "source": [
    "df = pd.read_csv(input_path, index_col=False)\n",
    "\n",
    "if (num_samples > 0):\n",
    "    validate = df.loc[np.random.choice(df.index, num_samples)].reset_index()\n",
    "else:\n",
    "    validate = df.reset_index()[[\"index\", \"title\", \"vendor\", \"product\", \"version\"]]\n",
    "\n",
    "if (verbose):\n",
    "    display(validate)"
   ]
  },
  {
   "cell_type": "markdown",
   "metadata": {},
   "source": [
    "## Predict entities:"
   ]
  },
  {
   "cell_type": "code",
   "execution_count": null,
   "metadata": {},
   "outputs": [],
   "source": [
    "l_results = []\n",
    "\n",
    "for model_name in custom_models:\n",
    "    if (model_name.endswith('vpv')):\n",
    "        p_ner_vendor = True\n",
    "        p_ner_product = True\n",
    "        p_ner_version = True\n",
    "        str_coltail = \"_vpv\"\n",
    "    elif (model_name.endswith('vp')):\n",
    "        p_ner_vendor = True\n",
    "        p_ner_product = True\n",
    "        p_ner_version = False\n",
    "        str_coltail = \"_vp\"\n",
    "    elif (model_name.endswith('pv')):\n",
    "        p_ner_vendor = False\n",
    "        p_ner_product = True\n",
    "        p_ner_version = True\n",
    "        str_coltail = \"_pv\"\n",
    "    elif (model_name.endswith('vv')):\n",
    "        p_ner_vendor = True\n",
    "        p_ner_product = False\n",
    "        p_ner_version = True\n",
    "        str_coltail = \"_vv\"\n",
    "    elif (model_name.endswith('vend')):\n",
    "        p_ner_vendor = True\n",
    "        p_ner_product = False\n",
    "        p_ner_version = False\n",
    "        str_coltail = \"_vend\"\n",
    "    elif (model_name.endswith('prod')):\n",
    "        p_ner_vendor = False\n",
    "        p_ner_product = True\n",
    "        p_ner_version = False\n",
    "        str_coltail = \"_prod\"\n",
    "    elif (model_name.endswith('vers')):\n",
    "        p_ner_vendor = False\n",
    "        p_ner_product = False\n",
    "        p_ner_version = True\n",
    "        str_coltail = \"_vers\"\n",
    "    else:\n",
    "        p_ner_vendor = False\n",
    "        p_ner_product = False\n",
    "        p_ner_version = False\n",
    "        str_coltail = \"_none\"\n",
    "    print(model_name)\n",
    "\n",
    "    tokenizer = AutoTokenizer.from_pretrained(model_name + \"/tokenizer\")\n",
    "    model = AutoModelForTokenClassification.from_pretrained(model_name, ignore_mismatched_sizes=True)\n",
    "    pipe = pipeline(\"ner\", model=model, tokenizer=tokenizer, aggregation_strategy=\"max\", device=0) # pass device=0 if using gpu\n",
    "\n",
    "    def predict_cpe_ner(df, col_name):\n",
    "        dataset = Dataset.from_pandas(df)\n",
    "        out_ner = []\n",
    "        for out in pipe(KeyDataset(dataset, col_name), batch_size=8):\n",
    "            i = process_ner_out(out, p_ner_vendor, p_ner_product, p_ner_version)\n",
    "            out_ner.append(i)\n",
    "\n",
    "        df_predict = pd.DataFrame.from_dict(out_ner)\n",
    "        \n",
    "        return df_predict\n",
    "    \n",
    "    df_predict = predict_cpe_ner(validate, infer_column)\n",
    "    df_result = pd.concat([validate.loc[:,[i for i in validate.columns if (i.startswith('title'))]].reset_index(drop=True), df_predict], axis=1)\n",
    "    if (\"ner_version\" in df_result.columns):\n",
    "        df_result['ner_version_raw'] = df_result['ner_version']\n",
    "        df_result['ner_version'] = df_result.apply(hackvers, axis=1)\n",
    "\n",
    "    df_result = df_result.loc[:, df_result.columns != 'title']\n",
    "    df_result.columns = [s + str_coltail for s in df_result.columns]\n",
    "    l_results.append(df_result)\n",
    "\n",
    "df_final = pd.concat(l_results, axis=1)\n",
    "df_final = pd.concat([validate.loc[:,[i for i in validate.columns if (i.startswith('title'))]].reset_index(drop=True), df_final], axis=1)\n",
    "if (verbose):\n",
    "    display(df_final)\n"
   ]
  },
  {
   "cell_type": "markdown",
   "metadata": {},
   "source": [
    "## Save results"
   ]
  },
  {
   "cell_type": "code",
   "execution_count": null,
   "metadata": {},
   "outputs": [],
   "source": [
    "df_final.to_csv(results_path)"
   ]
  }
 ],
 "metadata": {
  "kernelspec": {
   "display_name": "base",
   "language": "python",
   "name": "python3"
  },
  "language_info": {
   "codemirror_mode": {
    "name": "ipython",
    "version": 3
   },
   "file_extension": ".py",
   "mimetype": "text/x-python",
   "name": "python",
   "nbconvert_exporter": "python",
   "pygments_lexer": "ipython3",
   "version": "3.11.8"
  },
  "orig_nbformat": 4
 },
 "nbformat": 4,
 "nbformat_minor": 2
}
