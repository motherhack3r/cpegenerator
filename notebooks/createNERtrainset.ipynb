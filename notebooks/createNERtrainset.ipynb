{
 "cells": [
  {
   "cell_type": "markdown",
   "metadata": {},
   "source": [
    "# Create custom training set"
   ]
  },
  {
   "cell_type": "code",
   "execution_count": null,
   "metadata": {
    "vscode": {
     "languageId": "r"
    }
   },
   "outputs": [],
   "source": [
    "seed <- 42\n",
    "\n",
    "# Select entities to annotate\n",
    "train_ner_vendor  <- TRUE\n",
    "train_ner_product <- TRUE\n",
    "train_ner_version <- FALSE\n",
    "\n",
    "# Configure the data size and flavour\n",
    "num_samples <- 20000\n",
    "weighted_sampling <- TRUE\n",
    "\n",
    "# Select data frame with parsed CPEs\n",
    "folder_datasets <- \"../datasets\"\n",
    "folder_dataraw <- \"rawdata\"\n",
    "folder_trainsets <- \"trainsets\"\n",
    "filename_dfcpes <- \"df_cpes.rds\"\n",
    "path_dfcpes <- file.path(folder_datasets, folder_dataraw, filename_dfcpes)\n",
    "path_dfcpes"
   ]
  },
  {
   "cell_type": "code",
   "execution_count": null,
   "metadata": {
    "vscode": {
     "languageId": "r"
    }
   },
   "outputs": [],
   "source": [
    "str_bio <- if (train_ner_vendor && train_ner_product && train_ner_version) {\n",
    "  \"vpv\"\n",
    "} else if (train_ner_vendor && train_ner_product && !train_ner_version) {\n",
    "  \"vp\"\n",
    "} else if (!train_ner_vendor && train_ner_product && train_ner_version) {\n",
    "  \"pv\"\n",
    "} else if (train_ner_vendor && !train_ner_product && train_ner_version) {\n",
    "  \"vv\"\n",
    "} else if (train_ner_vendor && !train_ner_product && !train_ner_version) {\n",
    "  \"vend\"\n",
    "} else if (!train_ner_vendor && train_ner_product && !train_ner_version) {\n",
    "  \"prod\"\n",
    "} else if (!train_ner_vendor && !train_ner_product && train_ner_version) {\n",
    "  \"vers\"\n",
    "} else {\n",
    "  \"BAD\"\n",
    "}\n",
    "\n",
    "filename_trainset <- paste0(paste(\"train_cpener\",\n",
    "                                  str_bio, \n",
    "                                  ifelse(num_samples >= 1000, \n",
    "                                         paste0(round(num_samples / 1000, 0), \"k\"), # nolint: line_length_linter.\n",
    "                                         num_samples),\n",
    "                                  ifelse(weighted_sampling, \"wgh\", \"rnd\"),\n",
    "                                  sep = \"_\"),\n",
    "                            seed, \".csv.gz\")\n",
    "path_trainset <- file.path(folder_datasets, folder_trainsets, filename_trainset)\n",
    "path_trainset"
   ]
  },
  {
   "cell_type": "markdown",
   "metadata": {},
   "source": [
    "# Requirements"
   ]
  },
  {
   "cell_type": "code",
   "execution_count": null,
   "metadata": {
    "vscode": {
     "languageId": "r"
    }
   },
   "outputs": [],
   "source": [
    "library(nist)\n",
    "suppressPackageStartupMessages(library(dplyr))\n",
    "\n",
    "set.seed(seed)"
   ]
  },
  {
   "cell_type": "markdown",
   "metadata": {},
   "source": [
    "# Load official CPE dataset"
   ]
  },
  {
   "cell_type": "code",
   "execution_count": null,
   "metadata": {
    "vscode": {
     "languageId": "r"
    }
   },
   "outputs": [],
   "source": [
    "if (file.exists(path_dfcpes)) {\n",
    "  df_cpes <- readRDS(path_dfcpes)\n",
    "} else {\n",
    "  if (!(dir.exists(folder_datasets))) dir.create(folder_datasets)\n",
    "  if (!(dir.exists(file.path(folder_datasets, folder_dataraw))))\n",
    "    dir.create(file.path(folder_datasets, folder_dataraw))\n",
    "  cpes_file <- nist::getLatestdata(file.path(folder_datasets, folder_dataraw))\n",
    "  df_cpes <- nist::cpes_etl(cpes_file)\n",
    "  saveRDS(df_cpes, path_dfcpes)\n",
    "}\n"
   ]
  },
  {
   "cell_type": "code",
   "execution_count": null,
   "metadata": {
    "vscode": {
     "languageId": "r"
    }
   },
   "outputs": [],
   "source": [
    "View(df_cpes %>% sample_n(5))"
   ]
  },
  {
   "cell_type": "markdown",
   "metadata": {},
   "source": [
    "# Annotate"
   ]
  },
  {
   "cell_type": "code",
   "execution_count": null,
   "metadata": {
    "vscode": {
     "languageId": "r"
    }
   },
   "outputs": [],
   "source": [
    "df_cpe_tags <- nist::cpeNERannotate(cpes = df_cpes,\n",
    "                                    vendor = train_ner_vendor,\n",
    "                                    product = train_ner_product,\n",
    "                                    version = train_ner_version)\n",
    "View(df_cpe_tags %>% sample_n(5))"
   ]
  },
  {
   "cell_type": "markdown",
   "metadata": {},
   "source": [
    "# Sampling"
   ]
  },
  {
   "cell_type": "code",
   "execution_count": null,
   "metadata": {
    "vscode": {
     "languageId": "r"
    }
   },
   "outputs": [],
   "source": [
    "df_train <- nist::getCPEsample(df_cpe_tags, num_samples, weighted_sampling)\n",
    "\n",
    "if (!train_ner_vendor) {\n",
    "  df_train <- df_train %>% select(-\"vendor\")\n",
    "}\n",
    "if (!train_ner_product) {\n",
    "  df_train <- df_train %>% select(-\"product\")\n",
    "}\n",
    "if (!train_ner_version) {\n",
    "  df_train <- df_train %>% select(-\"version\")\n",
    "}\n",
    "\n",
    "View(df_train %>% sample_n(5))"
   ]
  },
  {
   "cell_type": "markdown",
   "metadata": {},
   "source": [
    "# Save trainset"
   ]
  },
  {
   "cell_type": "code",
   "execution_count": null,
   "metadata": {
    "vscode": {
     "languageId": "r"
    }
   },
   "outputs": [],
   "source": [
    "if (file.exists(path_trainset)) {\n",
    "  write.csv(df_train, file = gzfile(path_trainset), row.names = FALSE)\n",
    "} else {\n",
    "  if (!(dir.exists(folder_datasets))) dir.create(folder_datasets)\n",
    "  if (!(dir.exists(file.path(folder_datasets, folder_trainsets))))\n",
    "    dir.create(file.path(folder_datasets, folder_trainsets))\n",
    "  write.csv(df_train, file = gzfile(path_trainset), row.names = FALSE)\n",
    "}\n",
    "\n",
    "path_trainset"
   ]
  }
 ],
 "metadata": {
  "kernelspec": {
   "display_name": "R",
   "language": "R",
   "name": "ir"
  },
  "language_info": {
   "codemirror_mode": "r",
   "file_extension": ".r",
   "mimetype": "text/x-r-source",
   "name": "R",
   "pygments_lexer": "r",
   "version": "4.3.2"
  },
  "orig_nbformat": 4,
  "vscode": {
   "interpreter": {
    "hash": "5036686f8886592d9c4e13d6404ef8345dce400b4078391b78b66d58b6dd0c64"
   }
  }
 },
 "nbformat": 4,
 "nbformat_minor": 2
}
